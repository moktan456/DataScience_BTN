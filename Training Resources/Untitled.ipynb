{
 "cells": [
  {
   "cell_type": "code",
   "execution_count": 1,
   "id": "bce85d4f",
   "metadata": {},
   "outputs": [],
   "source": [
    "import numpy as np"
   ]
  },
  {
   "cell_type": "code",
   "execution_count": 2,
   "id": "62cecd0e",
   "metadata": {},
   "outputs": [],
   "source": [
    "midterm = [34,20,17,36]\n",
    "final = [45,19,35,45]"
   ]
  },
  {
   "cell_type": "code",
   "execution_count": 4,
   "id": "36e494fa",
   "metadata": {},
   "outputs": [],
   "source": [
    "mid = np.array(midterm)\n",
    "fin = np.array(final)"
   ]
  },
  {
   "cell_type": "code",
   "execution_count": 5,
   "id": "f58011bc",
   "metadata": {},
   "outputs": [
    {
     "data": {
      "text/plain": [
       "numpy.ndarray"
      ]
     },
     "execution_count": 5,
     "metadata": {},
     "output_type": "execute_result"
    }
   ],
   "source": [
    "type(mid)"
   ]
  },
  {
   "cell_type": "code",
   "execution_count": 6,
   "id": "53a7af73",
   "metadata": {},
   "outputs": [],
   "source": [
    "total = mid + fin"
   ]
  },
  {
   "cell_type": "code",
   "execution_count": 8,
   "id": "78d12310",
   "metadata": {},
   "outputs": [
    {
     "data": {
      "text/plain": [
       "array([79, 39, 52, 81])"
      ]
     },
     "execution_count": 8,
     "metadata": {},
     "output_type": "execute_result"
    }
   ],
   "source": [
    "total"
   ]
  },
  {
   "cell_type": "code",
   "execution_count": 9,
   "id": "fe2e9be7",
   "metadata": {},
   "outputs": [],
   "source": [
    "Day1 = [[0.8,1,0.5],[1,0.9,0.6],[1,1,0.5]]\n",
    "Day2 = [[0.3,1.2,0.7],[0.5,1.1,0.8],[0.5,1.3,0.7]]"
   ]
  },
  {
   "cell_type": "code",
   "execution_count": 10,
   "id": "704702f9",
   "metadata": {},
   "outputs": [
    {
     "data": {
      "text/plain": [
       "[[0.8, 1, 0.5], [1, 0.9, 0.6], [1, 1, 0.5]]"
      ]
     },
     "execution_count": 10,
     "metadata": {},
     "output_type": "execute_result"
    }
   ],
   "source": [
    "Day1"
   ]
  },
  {
   "cell_type": "code",
   "execution_count": null,
   "id": "61a4211e",
   "metadata": {},
   "outputs": [],
   "source": []
  }
 ],
 "metadata": {
  "kernelspec": {
   "display_name": "Python 3 (ipykernel)",
   "language": "python",
   "name": "python3"
  },
  "language_info": {
   "codemirror_mode": {
    "name": "ipython",
    "version": 3
   },
   "file_extension": ".py",
   "mimetype": "text/x-python",
   "name": "python",
   "nbconvert_exporter": "python",
   "pygments_lexer": "ipython3",
   "version": "3.10.7"
  }
 },
 "nbformat": 4,
 "nbformat_minor": 5
}

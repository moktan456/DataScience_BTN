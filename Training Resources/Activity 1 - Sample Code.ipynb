{
 "cells": [
  {
   "cell_type": "markdown",
   "id": "341eaf84",
   "metadata": {},
   "source": [
    "# Activity I - Task 2"
   ]
  },
  {
   "cell_type": "code",
   "execution_count": 1,
   "id": "11ffe5a7",
   "metadata": {},
   "outputs": [],
   "source": [
    "# Creating matrix (2D list) from Tuple\n",
    "#Day1 = [[(0.8,1,0.5),(1,0.9,0.6),(1,1,0.5)]]\n",
    "#Day2= [[(0.3,1.2,0.7),(0.5,1.1,0.8),(0.5,1.3,0.7)]]\n",
    "\n",
    "#or\n",
    "# Creating matrix from lists\n",
    "\n",
    "Day1 = [[0.8,1,0.5],[1,0.9,0.6],[1,1,0.5]]\n",
    "Day2= [[0.3,1.2,0.7],[0.5,1.1,0.8],[0.5,1.3,0.7]]"
   ]
  },
  {
   "cell_type": "code",
   "execution_count": 2,
   "id": "e48ac323",
   "metadata": {},
   "outputs": [],
   "source": [
    "import numpy as np"
   ]
  },
  {
   "cell_type": "code",
   "execution_count": 3,
   "id": "aaab268e",
   "metadata": {},
   "outputs": [],
   "source": [
    "A = np.array(Day1)\n",
    "B = np.array(Day2)"
   ]
  },
  {
   "cell_type": "code",
   "execution_count": 4,
   "id": "77dd7311",
   "metadata": {},
   "outputs": [
    {
     "data": {
      "text/plain": [
       "numpy.ndarray"
      ]
     },
     "execution_count": 4,
     "metadata": {},
     "output_type": "execute_result"
    }
   ],
   "source": [
    "type(A)"
   ]
  },
  {
   "cell_type": "code",
   "execution_count": 5,
   "id": "b55677b2",
   "metadata": {},
   "outputs": [
    {
     "data": {
      "text/plain": [
       "list"
      ]
     },
     "execution_count": 5,
     "metadata": {},
     "output_type": "execute_result"
    }
   ],
   "source": [
    "type(Day1)"
   ]
  },
  {
   "cell_type": "code",
   "execution_count": 6,
   "id": "e9451135",
   "metadata": {},
   "outputs": [
    {
     "data": {
      "text/plain": [
       "(3, 3)"
      ]
     },
     "execution_count": 6,
     "metadata": {},
     "output_type": "execute_result"
    }
   ],
   "source": [
    "# Dimensions of an arrary\n",
    "A.shape"
   ]
  },
  {
   "cell_type": "code",
   "execution_count": 7,
   "id": "a3299e1c",
   "metadata": {},
   "outputs": [
    {
     "data": {
      "text/plain": [
       "9"
      ]
     },
     "execution_count": 7,
     "metadata": {},
     "output_type": "execute_result"
    }
   ],
   "source": [
    "# No of elements in an array\n",
    "A.size"
   ]
  },
  {
   "cell_type": "code",
   "execution_count": 8,
   "id": "e9ab9f23",
   "metadata": {},
   "outputs": [
    {
     "data": {
      "text/plain": [
       "2"
      ]
     },
     "execution_count": 8,
     "metadata": {},
     "output_type": "execute_result"
    }
   ],
   "source": [
    "A.ndim"
   ]
  },
  {
   "cell_type": "code",
   "execution_count": 9,
   "id": "96882147",
   "metadata": {},
   "outputs": [
    {
     "name": "stdout",
     "output_type": "stream",
     "text": [
      "1.0\n"
     ]
    }
   ],
   "source": [
    "print(A[0,1])"
   ]
  },
  {
   "cell_type": "code",
   "execution_count": 10,
   "id": "cab84d9f",
   "metadata": {},
   "outputs": [
    {
     "name": "stdout",
     "output_type": "stream",
     "text": [
      "[0.5 0.6 0.5]\n"
     ]
    }
   ],
   "source": [
    "print(A[:,2])"
   ]
  },
  {
   "cell_type": "code",
   "execution_count": 11,
   "id": "2078abbc",
   "metadata": {},
   "outputs": [
    {
     "name": "stdout",
     "output_type": "stream",
     "text": [
      "[[1.1 2.2 1.2]\n",
      " [1.5 2.  1.4]\n",
      " [1.5 2.3 1.2]]\n"
     ]
    }
   ],
   "source": [
    "time_spent = A + B\n",
    "print(time_spent)"
   ]
  },
  {
   "cell_type": "markdown",
   "id": "99e9e851",
   "metadata": {},
   "source": [
    "Sample on matrix multiplication"
   ]
  },
  {
   "cell_type": "code",
   "execution_count": 12,
   "id": "b8129931",
   "metadata": {},
   "outputs": [],
   "source": [
    "x = np.array([[1,2,3],[4,5,6]])\n",
    "y = np.array([[5,6,7],[8,9,10],[11,12,13]])"
   ]
  },
  {
   "cell_type": "code",
   "execution_count": 13,
   "id": "ac55775d",
   "metadata": {},
   "outputs": [
    {
     "data": {
      "text/plain": [
       "array([[ 54,  60,  66],\n",
       "       [126, 141, 156]])"
      ]
     },
     "execution_count": 13,
     "metadata": {},
     "output_type": "execute_result"
    }
   ],
   "source": [
    "np.dot(x,y)"
   ]
  },
  {
   "cell_type": "code",
   "execution_count": 14,
   "id": "aaf963a1",
   "metadata": {},
   "outputs": [
    {
     "data": {
      "text/plain": [
       "array([[ 54,  60,  66],\n",
       "       [126, 141, 156]])"
      ]
     },
     "execution_count": 14,
     "metadata": {},
     "output_type": "execute_result"
    }
   ],
   "source": [
    "np.matmul(x,y)"
   ]
  },
  {
   "cell_type": "code",
   "execution_count": 15,
   "id": "83211fce",
   "metadata": {},
   "outputs": [
    {
     "data": {
      "text/plain": [
       "array([[ 54,  60,  66],\n",
       "       [126, 141, 156]])"
      ]
     },
     "execution_count": 15,
     "metadata": {},
     "output_type": "execute_result"
    }
   ],
   "source": [
    "x@y"
   ]
  },
  {
   "cell_type": "code",
   "execution_count": 16,
   "id": "9b677037",
   "metadata": {},
   "outputs": [],
   "source": [
    "row,col = x.shape"
   ]
  },
  {
   "cell_type": "code",
   "execution_count": 17,
   "id": "db8a8470",
   "metadata": {},
   "outputs": [
    {
     "data": {
      "text/plain": [
       "2"
      ]
     },
     "execution_count": 17,
     "metadata": {},
     "output_type": "execute_result"
    }
   ],
   "source": [
    "row"
   ]
  },
  {
   "cell_type": "code",
   "execution_count": 18,
   "id": "608738da",
   "metadata": {},
   "outputs": [
    {
     "data": {
      "text/plain": [
       "3"
      ]
     },
     "execution_count": 18,
     "metadata": {},
     "output_type": "execute_result"
    }
   ],
   "source": [
    "col"
   ]
  },
  {
   "cell_type": "code",
   "execution_count": 19,
   "id": "11b267d5",
   "metadata": {},
   "outputs": [],
   "source": [
    "w = np.array(((2,3),(4,5)))\n",
    "z = np.array(((5,6),(7,8)))"
   ]
  },
  {
   "cell_type": "code",
   "execution_count": 20,
   "id": "25db743b",
   "metadata": {},
   "outputs": [
    {
     "data": {
      "text/plain": [
       "array([[10, 18],\n",
       "       [28, 40]])"
      ]
     },
     "execution_count": 20,
     "metadata": {},
     "output_type": "execute_result"
    }
   ],
   "source": [
    "w*z"
   ]
  }
 ],
 "metadata": {
  "kernelspec": {
   "display_name": "Python 3 (ipykernel)",
   "language": "python",
   "name": "python3"
  },
  "language_info": {
   "codemirror_mode": {
    "name": "ipython",
    "version": 3
   },
   "file_extension": ".py",
   "mimetype": "text/x-python",
   "name": "python",
   "nbconvert_exporter": "python",
   "pygments_lexer": "ipython3",
   "version": "3.10.7"
  }
 },
 "nbformat": 4,
 "nbformat_minor": 5
}

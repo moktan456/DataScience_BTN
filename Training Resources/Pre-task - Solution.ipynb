{
 "cells": [
  {
   "cell_type": "code",
   "execution_count": 1,
   "id": "357e1705",
   "metadata": {},
   "outputs": [],
   "source": [
    "import numpy as np"
   ]
  },
  {
   "cell_type": "code",
   "execution_count": 2,
   "id": "36409162",
   "metadata": {},
   "outputs": [],
   "source": [
    "population = np.array([17820, 68966, 24965, 3952, 13655,\n",
    "                   14437, 37150, 46316, 23632, 28740,\n",
    "                   35079, 62590, 46004,138736, 17300,\n",
    "                   45518, 19960, 22376, 42186, 17736])"
   ]
  },
  {
   "cell_type": "markdown",
   "id": "fa58b6b4",
   "metadata": {},
   "source": [
    "# Measures of central tendency"
   ]
  },
  {
   "cell_type": "code",
   "execution_count": 4,
   "id": "8144d397",
   "metadata": {},
   "outputs": [],
   "source": [
    "min_pop = population.min()\n",
    "max_pop = population.max()\n",
    "pop_diff = population.ptp()\n",
    "mean_pop = population.mean()\n",
    "median_pop = np.median(population)"
   ]
  },
  {
   "cell_type": "code",
   "execution_count": 5,
   "id": "c17eee95",
   "metadata": {},
   "outputs": [
    {
     "name": "stdout",
     "output_type": "stream",
     "text": [
      "Minimum populated :3952\n",
      "Max populated :138736\n",
      "Range  :134784\n",
      "Mean population  :36355.9\n",
      "Median population :26852.5\n"
     ]
    }
   ],
   "source": [
    "print(f'Minimum populated :{min_pop}')\n",
    "print(f'Max populated :{max_pop}')\n",
    "print(f'Range  :{pop_diff}')\n",
    "print(f'Mean population  :{mean_pop}')\n",
    "print(f'Median population :{median_pop}')"
   ]
  },
  {
   "cell_type": "markdown",
   "id": "6a271d3b",
   "metadata": {},
   "source": [
    "# Statistics part"
   ]
  },
  {
   "cell_type": "code",
   "execution_count": 8,
   "id": "b9d7657f",
   "metadata": {},
   "outputs": [],
   "source": [
    "#var = np.var(population)\n",
    "var = population.var()\n",
    "std = population.std()\n",
    "q1 = np.quantile(population,0.25)\n",
    "#q2 = np.quantile(population,0.5)\n",
    "q3 = np.quantile(population,0.75)"
   ]
  },
  {
   "cell_type": "code",
   "execution_count": 9,
   "id": "2f3c6872",
   "metadata": {},
   "outputs": [
    {
     "name": "stdout",
     "output_type": "stream",
     "text": [
      "Variance: 822946040.3900001\n",
      "Std: 28687.036103264487\n",
      "Q1: 17799.0\n",
      "Q3: 45639.5\n"
     ]
    }
   ],
   "source": [
    "print(f'Variance: {var}')\n",
    "print(f'Std: {std}')\n",
    "print(f'Q1: {q1}')\n",
    "print(f'Q3: {q3}')"
   ]
  },
  {
   "cell_type": "code",
   "execution_count": 10,
   "id": "ebda2d1a",
   "metadata": {},
   "outputs": [
    {
     "data": {
      "text/plain": [
       "numpy.float64"
      ]
     },
     "execution_count": 10,
     "metadata": {},
     "output_type": "execute_result"
    }
   ],
   "source": [
    "type(var)"
   ]
  },
  {
   "cell_type": "code",
   "execution_count": null,
   "id": "32977ade",
   "metadata": {},
   "outputs": [],
   "source": []
  }
 ],
 "metadata": {
  "kernelspec": {
   "display_name": "Python 3 (ipykernel)",
   "language": "python",
   "name": "python3"
  },
  "language_info": {
   "codemirror_mode": {
    "name": "ipython",
    "version": 3
   },
   "file_extension": ".py",
   "mimetype": "text/x-python",
   "name": "python",
   "nbconvert_exporter": "python",
   "pygments_lexer": "ipython3",
   "version": "3.10.7"
  }
 },
 "nbformat": 4,
 "nbformat_minor": 5
}

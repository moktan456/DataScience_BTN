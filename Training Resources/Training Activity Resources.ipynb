{
 "cells": [
  {
   "cell_type": "markdown",
   "id": "341eaf84",
   "metadata": {},
   "source": [
    "Activity 1 - Task 2"
   ]
  },
  {
   "cell_type": "code",
   "execution_count": 3,
   "id": "11ffe5a7",
   "metadata": {},
   "outputs": [],
   "source": [
    "# Creating matrix (2D list) from Tuple\n",
    "#Day1 = [[(0.8,1,0.5),(1,0.9,0.6),(1,1,0.5)]]\n",
    "#Day2= [[(0.3,1.2,0.7),(0.5,1.1,0.8),(0.5,1.3,0.7)]]\n",
    "\n",
    "#or\n",
    "# Creating matrix from lists\n",
    "\n",
    "Day1 = [[0.8,1,0.5],[1,0.9,0.6],[1,1,0.5]]\n",
    "Day2= [[0.3,1.2,0.7],[0.5,1.1,0.8],[0.5,1.3,0.7]]"
   ]
  },
  {
   "cell_type": "code",
   "execution_count": 4,
   "id": "e48ac323",
   "metadata": {},
   "outputs": [],
   "source": [
    "import numpy as np"
   ]
  },
  {
   "cell_type": "code",
   "execution_count": 5,
   "id": "aaab268e",
   "metadata": {},
   "outputs": [],
   "source": [
    "A = np.array(Day1)"
   ]
  },
  {
   "cell_type": "code",
   "execution_count": 6,
   "id": "77dd7311",
   "metadata": {},
   "outputs": [
    {
     "data": {
      "text/plain": [
       "numpy.ndarray"
      ]
     },
     "execution_count": 6,
     "metadata": {},
     "output_type": "execute_result"
    }
   ],
   "source": [
    "type(A)"
   ]
  },
  {
   "cell_type": "code",
   "execution_count": 7,
   "id": "b55677b2",
   "metadata": {},
   "outputs": [
    {
     "data": {
      "text/plain": [
       "list"
      ]
     },
     "execution_count": 7,
     "metadata": {},
     "output_type": "execute_result"
    }
   ],
   "source": [
    "type(Day1)"
   ]
  },
  {
   "cell_type": "code",
   "execution_count": 13,
   "id": "e9451135",
   "metadata": {},
   "outputs": [
    {
     "data": {
      "text/plain": [
       "(3, 3)"
      ]
     },
     "execution_count": 13,
     "metadata": {},
     "output_type": "execute_result"
    }
   ],
   "source": [
    "# Dimensions of an arrary\n",
    "A.shape"
   ]
  },
  {
   "cell_type": "code",
   "execution_count": 14,
   "id": "a3299e1c",
   "metadata": {},
   "outputs": [
    {
     "data": {
      "text/plain": [
       "9"
      ]
     },
     "execution_count": 14,
     "metadata": {},
     "output_type": "execute_result"
    }
   ],
   "source": [
    "# No of elements in an array\n",
    "A.size"
   ]
  },
  {
   "cell_type": "code",
   "execution_count": 15,
   "id": "e9ab9f23",
   "metadata": {},
   "outputs": [
    {
     "data": {
      "text/plain": [
       "2"
      ]
     },
     "execution_count": 15,
     "metadata": {},
     "output_type": "execute_result"
    }
   ],
   "source": [
    "A.ndim"
   ]
  },
  {
   "cell_type": "markdown",
   "id": "d7af587f",
   "metadata": {},
   "source": [
    "Activity 2"
   ]
  },
  {
   "cell_type": "code",
   "execution_count": 16,
   "id": "8edaaa1b",
   "metadata": {},
   "outputs": [],
   "source": [
    "population = np.array([17820, 68966, 24965, 3952, 13655,\n",
    "                   14437, 37150, 46316, 23632, 28740,\n",
    "                   35079, 62590, 46004,138736, 17300,\n",
    "                   45518, 19960, 22376, 42186, 17736])"
   ]
  },
  {
   "cell_type": "code",
   "execution_count": 17,
   "id": "348848ea",
   "metadata": {},
   "outputs": [
    {
     "data": {
      "text/plain": [
       "(20,)"
      ]
     },
     "execution_count": 17,
     "metadata": {},
     "output_type": "execute_result"
    }
   ],
   "source": [
    "population.shape"
   ]
  },
  {
   "cell_type": "code",
   "execution_count": 18,
   "id": "9959bd7d",
   "metadata": {},
   "outputs": [
    {
     "data": {
      "text/plain": [
       "20"
      ]
     },
     "execution_count": 18,
     "metadata": {},
     "output_type": "execute_result"
    }
   ],
   "source": [
    "population.size"
   ]
  },
  {
   "cell_type": "code",
   "execution_count": 19,
   "id": "22a9e066",
   "metadata": {},
   "outputs": [
    {
     "data": {
      "text/plain": [
       "1"
      ]
     },
     "execution_count": 19,
     "metadata": {},
     "output_type": "execute_result"
    }
   ],
   "source": [
    "population.ndim"
   ]
  },
  {
   "cell_type": "code",
   "execution_count": 30,
   "id": "b8129931",
   "metadata": {},
   "outputs": [],
   "source": [
    "x = np.array([[1,2,3],[4,5,6]])\n",
    "y = np.array([[5,6,7],[8,9,10],[11,12,13]])"
   ]
  },
  {
   "cell_type": "code",
   "execution_count": 31,
   "id": "ac55775d",
   "metadata": {},
   "outputs": [
    {
     "data": {
      "text/plain": [
       "array([[ 54,  60,  66],\n",
       "       [126, 141, 156]])"
      ]
     },
     "execution_count": 31,
     "metadata": {},
     "output_type": "execute_result"
    }
   ],
   "source": [
    "np.dot(x,y)"
   ]
  },
  {
   "cell_type": "code",
   "execution_count": 32,
   "id": "aaf963a1",
   "metadata": {},
   "outputs": [
    {
     "data": {
      "text/plain": [
       "array([[ 54,  60,  66],\n",
       "       [126, 141, 156]])"
      ]
     },
     "execution_count": 32,
     "metadata": {},
     "output_type": "execute_result"
    }
   ],
   "source": [
    "np.matmul(x,y)"
   ]
  },
  {
   "cell_type": "code",
   "execution_count": 33,
   "id": "83211fce",
   "metadata": {},
   "outputs": [
    {
     "data": {
      "text/plain": [
       "array([[ 54,  60,  66],\n",
       "       [126, 141, 156]])"
      ]
     },
     "execution_count": 33,
     "metadata": {},
     "output_type": "execute_result"
    }
   ],
   "source": [
    "x@y"
   ]
  },
  {
   "cell_type": "code",
   "execution_count": 37,
   "id": "9b677037",
   "metadata": {},
   "outputs": [],
   "source": [
    "row,col = x.shape"
   ]
  },
  {
   "cell_type": "code",
   "execution_count": 38,
   "id": "db8a8470",
   "metadata": {},
   "outputs": [
    {
     "data": {
      "text/plain": [
       "2"
      ]
     },
     "execution_count": 38,
     "metadata": {},
     "output_type": "execute_result"
    }
   ],
   "source": [
    "row"
   ]
  },
  {
   "cell_type": "code",
   "execution_count": 39,
   "id": "608738da",
   "metadata": {},
   "outputs": [
    {
     "data": {
      "text/plain": [
       "3"
      ]
     },
     "execution_count": 39,
     "metadata": {},
     "output_type": "execute_result"
    }
   ],
   "source": [
    "col"
   ]
  },
  {
   "cell_type": "code",
   "execution_count": 47,
   "id": "11b267d5",
   "metadata": {},
   "outputs": [],
   "source": [
    "w = np.array(((2,3),(4,5)))\n",
    "z = np.array(((5,6),(7,8)))"
   ]
  },
  {
   "cell_type": "code",
   "execution_count": 48,
   "id": "25db743b",
   "metadata": {},
   "outputs": [
    {
     "data": {
      "text/plain": [
       "array([[10, 18],\n",
       "       [28, 40]])"
      ]
     },
     "execution_count": 48,
     "metadata": {},
     "output_type": "execute_result"
    }
   ],
   "source": [
    "w*z"
   ]
  },
  {
   "cell_type": "code",
   "execution_count": null,
   "id": "c7fdc0e3",
   "metadata": {},
   "outputs": [],
   "source": []
  }
 ],
 "metadata": {
  "kernelspec": {
   "display_name": "Python 3 (ipykernel)",
   "language": "python",
   "name": "python3"
  },
  "language_info": {
   "codemirror_mode": {
    "name": "ipython",
    "version": 3
   },
   "file_extension": ".py",
   "mimetype": "text/x-python",
   "name": "python",
   "nbconvert_exporter": "python",
   "pygments_lexer": "ipython3",
   "version": "3.10.7"
  }
 },
 "nbformat": 4,
 "nbformat_minor": 5
}

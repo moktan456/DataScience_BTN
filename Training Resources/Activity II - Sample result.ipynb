{
 "cells": [
  {
   "cell_type": "markdown",
   "id": "dc51bf38",
   "metadata": {},
   "source": [
    "# Activity II - Sample Code"
   ]
  },
  {
   "cell_type": "code",
   "execution_count": 1,
   "id": "ef2bbaea",
   "metadata": {},
   "outputs": [],
   "source": [
    "import numpy as np"
   ]
  },
  {
   "cell_type": "code",
   "execution_count": 2,
   "id": "46b073e5",
   "metadata": {},
   "outputs": [],
   "source": [
    "population = np.array([17820, 68966, 24965, 3952, 13655,\n",
    "                   14437, 37150, 46316, 23632, 28740,\n",
    "                   35079, 62590, 46004,138736, 17300,\n",
    "                   45518, 19960, 22376, 42186, 17736])"
   ]
  },
  {
   "cell_type": "markdown",
   "id": "b9133486",
   "metadata": {},
   "source": [
    "# Measures of central tendency"
   ]
  },
  {
   "cell_type": "code",
   "execution_count": 3,
   "id": "31d569af",
   "metadata": {},
   "outputs": [
    {
     "name": "stdout",
     "output_type": "stream",
     "text": [
      "Min population: 3952\n",
      "Max population: 138736\n",
      "Population range: 134784\n",
      "Mean population: 36355.9\n",
      "Median population: 26852.5\n"
     ]
    }
   ],
   "source": [
    "min_pop = population.min()\n",
    "max_pop = population.max()\n",
    "range_pop = population.ptp()\n",
    "#mean_pop = population.mean()\n",
    "# or \n",
    "mean_pop = np.mean(population)\n",
    "median_pop = np.median(population)\n",
    "\n",
    "print(f'Min population: {min_pop}')\n",
    "print(f'Max population: {max_pop}')\n",
    "print(f'Population range: {range_pop}')\n",
    "print(f'Mean population: {mean_pop}')\n",
    "print(f'Median population: {median_pop}')"
   ]
  },
  {
   "cell_type": "markdown",
   "id": "875d6e4d",
   "metadata": {},
   "source": [
    "# Statistics"
   ]
  },
  {
   "cell_type": "code",
   "execution_count": 4,
   "id": "f70fcfdf",
   "metadata": {},
   "outputs": [
    {
     "name": "stdout",
     "output_type": "stream",
     "text": [
      "Variance:822946040.4\n",
      "Standard Deviation: 28687.0\n",
      "Q1: 17799.0\n",
      "Q2: 45639.5\n"
     ]
    }
   ],
   "source": [
    "var = np.var(population)\n",
    "std = np.std(population)\n",
    "q1 = np.quantile(population,0.25)\n",
    "q3 = np.quantile(population,0.75)\n",
    "print(f'Variance:{round(var,1)}')\n",
    "print(f'Standard Deviation: {round(std,1)}')\n",
    "print(f'Q1: {q1}')\n",
    "print(f'Q2: {q3}')"
   ]
  }
 ],
 "metadata": {
  "kernelspec": {
   "display_name": "Python 3 (ipykernel)",
   "language": "python",
   "name": "python3"
  },
  "language_info": {
   "codemirror_mode": {
    "name": "ipython",
    "version": 3
   },
   "file_extension": ".py",
   "mimetype": "text/x-python",
   "name": "python",
   "nbconvert_exporter": "python",
   "pygments_lexer": "ipython3",
   "version": "3.10.7"
  }
 },
 "nbformat": 4,
 "nbformat_minor": 5
}

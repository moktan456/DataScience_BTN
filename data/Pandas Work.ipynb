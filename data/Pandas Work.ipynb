{
 "cells": [
  {
   "cell_type": "code",
   "execution_count": 2,
   "id": "0954caf3",
   "metadata": {},
   "outputs": [],
   "source": [
    "import numpy as np\n",
    "import pandas as pd\n",
    "import matplotlib.pyplot as plt\n",
    "%matplotlib inline"
   ]
  },
  {
   "cell_type": "code",
   "execution_count": 3,
   "id": "188d33ae",
   "metadata": {},
   "outputs": [],
   "source": [
    "df = pd.read_csv('Tourist_Arrival_2018.csv')"
   ]
  },
  {
   "cell_type": "code",
   "execution_count": 5,
   "id": "9e0cd53d",
   "metadata": {},
   "outputs": [
    {
     "data": {
      "text/html": [
       "<div>\n",
       "<style scoped>\n",
       "    .dataframe tbody tr th:only-of-type {\n",
       "        vertical-align: middle;\n",
       "    }\n",
       "\n",
       "    .dataframe tbody tr th {\n",
       "        vertical-align: top;\n",
       "    }\n",
       "\n",
       "    .dataframe thead th {\n",
       "        text-align: right;\n",
       "    }\n",
       "</style>\n",
       "<table border=\"1\" class=\"dataframe\">\n",
       "  <thead>\n",
       "    <tr style=\"text-align: right;\">\n",
       "      <th></th>\n",
       "      <th>Country</th>\n",
       "      <th>Jan</th>\n",
       "      <th>Feb</th>\n",
       "      <th>Mar</th>\n",
       "      <th>Apr</th>\n",
       "      <th>May</th>\n",
       "      <th>June</th>\n",
       "      <th>July</th>\n",
       "      <th>Aug</th>\n",
       "      <th>Sept</th>\n",
       "      <th>Oct</th>\n",
       "      <th>Nov</th>\n",
       "      <th>Dec</th>\n",
       "      <th>Total</th>\n",
       "    </tr>\n",
       "  </thead>\n",
       "  <tbody>\n",
       "    <tr>\n",
       "      <th>15</th>\n",
       "      <td>United Kingdom</td>\n",
       "      <td>56</td>\n",
       "      <td>228</td>\n",
       "      <td>530</td>\n",
       "      <td>354</td>\n",
       "      <td>168</td>\n",
       "      <td>72</td>\n",
       "      <td>65</td>\n",
       "      <td>87</td>\n",
       "      <td>397</td>\n",
       "      <td>768</td>\n",
       "      <td>663</td>\n",
       "      <td>197</td>\n",
       "      <td>3585</td>\n",
       "    </tr>\n",
       "    <tr>\n",
       "      <th>16</th>\n",
       "      <td>Singapore</td>\n",
       "      <td>63</td>\n",
       "      <td>176</td>\n",
       "      <td>349</td>\n",
       "      <td>315</td>\n",
       "      <td>363</td>\n",
       "      <td>369</td>\n",
       "      <td>107</td>\n",
       "      <td>216</td>\n",
       "      <td>342</td>\n",
       "      <td>310</td>\n",
       "      <td>322</td>\n",
       "      <td>954</td>\n",
       "      <td>3886</td>\n",
       "    </tr>\n",
       "    <tr>\n",
       "      <th>17</th>\n",
       "      <td>Thailand</td>\n",
       "      <td>51</td>\n",
       "      <td>359</td>\n",
       "      <td>437</td>\n",
       "      <td>772</td>\n",
       "      <td>457</td>\n",
       "      <td>236</td>\n",
       "      <td>130</td>\n",
       "      <td>73</td>\n",
       "      <td>220</td>\n",
       "      <td>287</td>\n",
       "      <td>336</td>\n",
       "      <td>528</td>\n",
       "      <td>3886</td>\n",
       "    </tr>\n",
       "    <tr>\n",
       "      <th>18</th>\n",
       "      <td>China</td>\n",
       "      <td>184</td>\n",
       "      <td>527</td>\n",
       "      <td>757</td>\n",
       "      <td>764</td>\n",
       "      <td>608</td>\n",
       "      <td>331</td>\n",
       "      <td>412</td>\n",
       "      <td>584</td>\n",
       "      <td>825</td>\n",
       "      <td>768</td>\n",
       "      <td>612</td>\n",
       "      <td>506</td>\n",
       "      <td>6878</td>\n",
       "    </tr>\n",
       "    <tr>\n",
       "      <th>19</th>\n",
       "      <td>USA</td>\n",
       "      <td>360</td>\n",
       "      <td>691</td>\n",
       "      <td>1170</td>\n",
       "      <td>1152</td>\n",
       "      <td>644</td>\n",
       "      <td>489</td>\n",
       "      <td>281</td>\n",
       "      <td>288</td>\n",
       "      <td>986</td>\n",
       "      <td>2362</td>\n",
       "      <td>1425</td>\n",
       "      <td>713</td>\n",
       "      <td>10561</td>\n",
       "    </tr>\n",
       "  </tbody>\n",
       "</table>\n",
       "</div>"
      ],
      "text/plain": [
       "           Country  Jan  Feb   Mar   Apr  May  June  July  Aug  Sept   Oct  \\\n",
       "15  United Kingdom   56  228   530   354  168    72    65   87   397   768   \n",
       "16       Singapore   63  176   349   315  363   369   107  216   342   310   \n",
       "17        Thailand   51  359   437   772  457   236   130   73   220   287   \n",
       "18           China  184  527   757   764  608   331   412  584   825   768   \n",
       "19             USA  360  691  1170  1152  644   489   281  288   986  2362   \n",
       "\n",
       "     Nov  Dec  Total  \n",
       "15   663  197   3585  \n",
       "16   322  954   3886  \n",
       "17   336  528   3886  \n",
       "18   612  506   6878  \n",
       "19  1425  713  10561  "
      ]
     },
     "execution_count": 5,
     "metadata": {},
     "output_type": "execute_result"
    }
   ],
   "source": [
    "df.tail()"
   ]
  },
  {
   "cell_type": "code",
   "execution_count": 8,
   "id": "ccbdf69f",
   "metadata": {},
   "outputs": [
    {
     "data": {
      "text/plain": [
       "['Country',\n",
       " 'Jan',\n",
       " 'Feb',\n",
       " 'Mar',\n",
       " 'Apr',\n",
       " 'May',\n",
       " 'June',\n",
       " 'July',\n",
       " 'Aug',\n",
       " 'Sept',\n",
       " 'Oct',\n",
       " 'Nov',\n",
       " 'Dec',\n",
       " 'Total']"
      ]
     },
     "execution_count": 8,
     "metadata": {},
     "output_type": "execute_result"
    }
   ],
   "source": [
    "list(df)"
   ]
  },
  {
   "cell_type": "code",
   "execution_count": 9,
   "id": "7f4530ff",
   "metadata": {},
   "outputs": [],
   "source": [
    "sorted_value = df.sort_values(by='Total',ascending=True)"
   ]
  },
  {
   "cell_type": "code",
   "execution_count": 13,
   "id": "be2abe00",
   "metadata": {},
   "outputs": [
    {
     "name": "stdout",
     "output_type": "stream",
     "text": [
      "<class 'pandas.core.frame.DataFrame'>\n",
      "RangeIndex: 20 entries, 0 to 19\n",
      "Data columns (total 14 columns):\n",
      " #   Column   Non-Null Count  Dtype \n",
      "---  ------   --------------  ----- \n",
      " 0   Country  20 non-null     object\n",
      " 1   Jan      20 non-null     int64 \n",
      " 2   Feb      20 non-null     int64 \n",
      " 3   Mar      20 non-null     int64 \n",
      " 4   Apr      20 non-null     int64 \n",
      " 5   May      20 non-null     int64 \n",
      " 6   June     20 non-null     int64 \n",
      " 7   July     20 non-null     int64 \n",
      " 8   Aug      20 non-null     int64 \n",
      " 9   Sept     20 non-null     int64 \n",
      " 10  Oct      20 non-null     int64 \n",
      " 11  Nov      20 non-null     int64 \n",
      " 12  Dec      20 non-null     int64 \n",
      " 13  Total    20 non-null     int64 \n",
      "dtypes: int64(13), object(1)\n",
      "memory usage: 2.3+ KB\n"
     ]
    }
   ],
   "source": [
    "df.info()"
   ]
  },
  {
   "cell_type": "code",
   "execution_count": 16,
   "id": "fe0d2319",
   "metadata": {},
   "outputs": [],
   "source": [
    "df = df.dropna()"
   ]
  },
  {
   "cell_type": "code",
   "execution_count": 18,
   "id": "8355af39",
   "metadata": {},
   "outputs": [
    {
     "name": "stdout",
     "output_type": "stream",
     "text": [
      "<class 'pandas.core.frame.DataFrame'>\n",
      "RangeIndex: 20 entries, 0 to 19\n",
      "Data columns (total 14 columns):\n",
      " #   Column   Non-Null Count  Dtype \n",
      "---  ------   --------------  ----- \n",
      " 0   Country  20 non-null     object\n",
      " 1   Jan      20 non-null     int64 \n",
      " 2   Feb      20 non-null     int64 \n",
      " 3   Mar      20 non-null     int64 \n",
      " 4   Apr      20 non-null     int64 \n",
      " 5   May      20 non-null     int64 \n",
      " 6   June     20 non-null     int64 \n",
      " 7   July     20 non-null     int64 \n",
      " 8   Aug      20 non-null     int64 \n",
      " 9   Sept     20 non-null     int64 \n",
      " 10  Oct      20 non-null     int64 \n",
      " 11  Nov      20 non-null     int64 \n",
      " 12  Dec      20 non-null     int64 \n",
      " 13  Total    20 non-null     int64 \n",
      "dtypes: int64(13), object(1)\n",
      "memory usage: 2.3+ KB\n"
     ]
    }
   ],
   "source": [
    "df.info()"
   ]
  },
  {
   "cell_type": "code",
   "execution_count": null,
   "id": "38030ea9",
   "metadata": {},
   "outputs": [],
   "source": []
  }
 ],
 "metadata": {
  "kernelspec": {
   "display_name": "Python 3 (ipykernel)",
   "language": "python",
   "name": "python3"
  },
  "language_info": {
   "codemirror_mode": {
    "name": "ipython",
    "version": 3
   },
   "file_extension": ".py",
   "mimetype": "text/x-python",
   "name": "python",
   "nbconvert_exporter": "python",
   "pygments_lexer": "ipython3",
   "version": "3.10.7"
  }
 },
 "nbformat": 4,
 "nbformat_minor": 5
}

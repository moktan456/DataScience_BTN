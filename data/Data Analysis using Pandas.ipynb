{
 "cells": [
  {
   "cell_type": "markdown",
   "id": "b5d07c5f",
   "metadata": {},
   "source": [
    "# DataScience Final Project Sample Program"
   ]
  },
  {
   "cell_type": "code",
   "execution_count": 15,
   "id": "a5b5778f",
   "metadata": {},
   "outputs": [],
   "source": [
    "# Importing the libraries\n",
    "import pandas as pd\n",
    "import numpy as np\n",
    "import matplotlib.pyplot as plt\n",
    "# Skip this if you are using Python IDLE\n",
    "%matplotlib inline "
   ]
  },
  {
   "cell_type": "code",
   "execution_count": 16,
   "id": "6dc9d661",
   "metadata": {},
   "outputs": [],
   "source": [
    "df = pd.read_csv('BCSEA_Marks.csv')"
   ]
  },
  {
   "cell_type": "code",
   "execution_count": 17,
   "id": "e7a129a9",
   "metadata": {},
   "outputs": [
    {
     "data": {
      "text/html": [
       "<div>\n",
       "<style scoped>\n",
       "    .dataframe tbody tr th:only-of-type {\n",
       "        vertical-align: middle;\n",
       "    }\n",
       "\n",
       "    .dataframe tbody tr th {\n",
       "        vertical-align: top;\n",
       "    }\n",
       "\n",
       "    .dataframe thead th {\n",
       "        text-align: right;\n",
       "    }\n",
       "</style>\n",
       "<table border=\"1\" class=\"dataframe\">\n",
       "  <thead>\n",
       "    <tr style=\"text-align: right;\">\n",
       "      <th></th>\n",
       "      <th>Student</th>\n",
       "      <th>English</th>\n",
       "      <th>Mathematics</th>\n",
       "      <th>Science</th>\n",
       "    </tr>\n",
       "  </thead>\n",
       "  <tbody>\n",
       "    <tr>\n",
       "      <th>0</th>\n",
       "      <td>201601.0</td>\n",
       "      <td>48.0</td>\n",
       "      <td>45.0</td>\n",
       "      <td>48.0</td>\n",
       "    </tr>\n",
       "    <tr>\n",
       "      <th>1</th>\n",
       "      <td>201602.0</td>\n",
       "      <td>50.0</td>\n",
       "      <td>33.0</td>\n",
       "      <td>36.0</td>\n",
       "    </tr>\n",
       "    <tr>\n",
       "      <th>2</th>\n",
       "      <td>201603.0</td>\n",
       "      <td>66.0</td>\n",
       "      <td>62.0</td>\n",
       "      <td>61.0</td>\n",
       "    </tr>\n",
       "    <tr>\n",
       "      <th>3</th>\n",
       "      <td>201604.0</td>\n",
       "      <td>51.0</td>\n",
       "      <td>38.0</td>\n",
       "      <td>32.0</td>\n",
       "    </tr>\n",
       "    <tr>\n",
       "      <th>4</th>\n",
       "      <td>201605.0</td>\n",
       "      <td>56.0</td>\n",
       "      <td>71.0</td>\n",
       "      <td>53.0</td>\n",
       "    </tr>\n",
       "  </tbody>\n",
       "</table>\n",
       "</div>"
      ],
      "text/plain": [
       "    Student  English  Mathematics  Science\n",
       "0  201601.0     48.0         45.0     48.0\n",
       "1  201602.0     50.0         33.0     36.0\n",
       "2  201603.0     66.0         62.0     61.0\n",
       "3  201604.0     51.0         38.0     32.0\n",
       "4  201605.0     56.0         71.0     53.0"
      ]
     },
     "execution_count": 17,
     "metadata": {},
     "output_type": "execute_result"
    }
   ],
   "source": [
    "# Displaying the first five data\n",
    "df.head()"
   ]
  },
  {
   "cell_type": "code",
   "execution_count": 18,
   "id": "ccc8b15d",
   "metadata": {},
   "outputs": [
    {
     "data": {
      "text/html": [
       "<div>\n",
       "<style scoped>\n",
       "    .dataframe tbody tr th:only-of-type {\n",
       "        vertical-align: middle;\n",
       "    }\n",
       "\n",
       "    .dataframe tbody tr th {\n",
       "        vertical-align: top;\n",
       "    }\n",
       "\n",
       "    .dataframe thead th {\n",
       "        text-align: right;\n",
       "    }\n",
       "</style>\n",
       "<table border=\"1\" class=\"dataframe\">\n",
       "  <thead>\n",
       "    <tr style=\"text-align: right;\">\n",
       "      <th></th>\n",
       "      <th>Student</th>\n",
       "      <th>English</th>\n",
       "      <th>Mathematics</th>\n",
       "      <th>Science</th>\n",
       "    </tr>\n",
       "  </thead>\n",
       "  <tbody>\n",
       "    <tr>\n",
       "      <th>12175</th>\n",
       "      <td>213776.0</td>\n",
       "      <td>54.0</td>\n",
       "      <td>55.0</td>\n",
       "      <td>45.0</td>\n",
       "    </tr>\n",
       "    <tr>\n",
       "      <th>12176</th>\n",
       "      <td>213777.0</td>\n",
       "      <td>44.0</td>\n",
       "      <td>44.0</td>\n",
       "      <td>32.0</td>\n",
       "    </tr>\n",
       "    <tr>\n",
       "      <th>12177</th>\n",
       "      <td>213778.0</td>\n",
       "      <td>42.0</td>\n",
       "      <td>37.0</td>\n",
       "      <td>32.0</td>\n",
       "    </tr>\n",
       "    <tr>\n",
       "      <th>12178</th>\n",
       "      <td>213779.0</td>\n",
       "      <td>54.0</td>\n",
       "      <td>43.0</td>\n",
       "      <td>45.0</td>\n",
       "    </tr>\n",
       "    <tr>\n",
       "      <th>12179</th>\n",
       "      <td>213780.0</td>\n",
       "      <td>39.0</td>\n",
       "      <td>42.0</td>\n",
       "      <td>47.0</td>\n",
       "    </tr>\n",
       "  </tbody>\n",
       "</table>\n",
       "</div>"
      ],
      "text/plain": [
       "        Student  English  Mathematics  Science\n",
       "12175  213776.0     54.0         55.0     45.0\n",
       "12176  213777.0     44.0         44.0     32.0\n",
       "12177  213778.0     42.0         37.0     32.0\n",
       "12178  213779.0     54.0         43.0     45.0\n",
       "12179  213780.0     39.0         42.0     47.0"
      ]
     },
     "execution_count": 18,
     "metadata": {},
     "output_type": "execute_result"
    }
   ],
   "source": [
    "# Displaying the bottom five data\n",
    "df.tail()"
   ]
  },
  {
   "cell_type": "code",
   "execution_count": 19,
   "id": "76fd2779",
   "metadata": {},
   "outputs": [
    {
     "name": "stdout",
     "output_type": "stream",
     "text": [
      "<class 'pandas.core.frame.DataFrame'>\n",
      "RangeIndex: 12180 entries, 0 to 12179\n",
      "Data columns (total 4 columns):\n",
      " #   Column       Non-Null Count  Dtype  \n",
      "---  ------       --------------  -----  \n",
      " 0   Student      12179 non-null  float64\n",
      " 1   English      12178 non-null  float64\n",
      " 2   Mathematics  12176 non-null  float64\n",
      " 3   Science      12170 non-null  float64\n",
      "dtypes: float64(4)\n",
      "memory usage: 380.8 KB\n"
     ]
    }
   ],
   "source": [
    "# Checking the datatypes and missing values of the dataset\n",
    "df.info()"
   ]
  },
  {
   "cell_type": "code",
   "execution_count": 20,
   "id": "af22e61e",
   "metadata": {},
   "outputs": [
    {
     "name": "stdout",
     "output_type": "stream",
     "text": [
      "Before dropna:(12180, 4)\n",
      "After dropna:(12163, 4)\n",
      "After removing zeros:(11973, 4)\n"
     ]
    }
   ],
   "source": [
    "# Data cleaning\n",
    "# Removing the rows with missing values\n",
    "# Original rows\n",
    "print(f\"Before dropna:{df.shape}\")\n",
    "df = df.dropna()\n",
    "print(f\"After dropna:{df.shape}\")\n",
    "columns_to_check = ['English','Mathematics','Science']\n",
    "\n",
    "df = df[~(df[columns_to_check] == 0).any(axis=1)]\n",
    "# No of rows after deleting the missing values\n",
    "print(f\"After removing zeros:{df.shape}\")"
   ]
  },
  {
   "cell_type": "markdown",
   "id": "1a19abd4",
   "metadata": {},
   "source": [
    "# Numerical analysis and visualization"
   ]
  },
  {
   "cell_type": "code",
   "execution_count": 21,
   "id": "b561dcfc",
   "metadata": {},
   "outputs": [],
   "source": [
    "eng = df['English']\n",
    "mat = df['Mathematics']\n",
    "sci = df['Science']"
   ]
  },
  {
   "cell_type": "markdown",
   "id": "d38968bd",
   "metadata": {},
   "source": [
    "Maximum number of students score (mode)"
   ]
  },
  {
   "cell_type": "code",
   "execution_count": 24,
   "id": "b74727dc",
   "metadata": {},
   "outputs": [
    {
     "name": "stdout",
     "output_type": "stream",
     "text": [
      "0    35.0\n",
      "Name: Science, dtype: float64\n"
     ]
    }
   ],
   "source": [
    "print(sci.mode())"
   ]
  },
  {
   "cell_type": "code",
   "execution_count": 29,
   "id": "fe812871",
   "metadata": {},
   "outputs": [
    {
     "name": "stdout",
     "output_type": "stream",
     "text": [
      "Correlation b/w English & Mathematics: 0.8\n"
     ]
    }
   ],
   "source": [
    "corr_eng_math = df['Science'].corr(df['Mathematics'])\n",
    "print(f'Correlation b/w English & Mathematics: {round(corr_eng_math,1)}')"
   ]
  },
  {
   "cell_type": "markdown",
   "id": "6cb0bfb1",
   "metadata": {},
   "source": [
    "## Converting pandas series to numpy array\n",
    "## NumPy skips nan values for calculation whereas pandas considers nan values"
   ]
  },
  {
   "cell_type": "code",
   "execution_count": 9,
   "id": "cd68b30b",
   "metadata": {},
   "outputs": [],
   "source": [
    "eng = eng.to_numpy()\n",
    "mat = mat.to_numpy()\n",
    "sci = sci.to_numpy()"
   ]
  },
  {
   "cell_type": "markdown",
   "id": "1e3f9623",
   "metadata": {},
   "source": [
    "Mean marks"
   ]
  },
  {
   "cell_type": "code",
   "execution_count": 10,
   "id": "e3b71dc6",
   "metadata": {},
   "outputs": [
    {
     "name": "stdout",
     "output_type": "stream",
     "text": [
      "English mean:54.2\n",
      "Mathematics mean:53.5\n",
      "Science mean:49.4\n"
     ]
    }
   ],
   "source": [
    "print(f'English mean:{round(eng.mean(),1)}')\n",
    "print(f'Mathematics mean:{round(mat.mean(),1)}')\n",
    "print(f'Science mean:{round(sci.mean(),1)}')"
   ]
  },
  {
   "cell_type": "markdown",
   "id": "2b589bfe",
   "metadata": {},
   "source": [
    "Standard Deviation (subjectwise)"
   ]
  },
  {
   "cell_type": "code",
   "execution_count": 11,
   "id": "3ef56278",
   "metadata": {},
   "outputs": [
    {
     "name": "stdout",
     "output_type": "stream",
     "text": [
      "English std:8.3\n",
      "Mathematics std:14.6\n",
      "Science std:14.5\n"
     ]
    }
   ],
   "source": [
    "print(f'English std:{round(eng.std(),1)}')\n",
    "print(f'Mathematics std:{round(mat.std(),1)}')\n",
    "print(f'Science std:{round(sci.std(),1)}')"
   ]
  },
  {
   "cell_type": "markdown",
   "id": "73ad4fee",
   "metadata": {},
   "source": [
    "The standard deviation are low which indicates that the marks are close to mean and is not deviated from the mean"
   ]
  },
  {
   "cell_type": "markdown",
   "id": "2f2588e7",
   "metadata": {},
   "source": [
    "# Sorting the data"
   ]
  },
  {
   "cell_type": "code",
   "execution_count": 12,
   "id": "531afb67",
   "metadata": {},
   "outputs": [],
   "source": [
    "df = df.sort_values(by=['Mathematics'],ascending=False)"
   ]
  },
  {
   "cell_type": "code",
   "execution_count": 13,
   "id": "2d7d8d57",
   "metadata": {},
   "outputs": [
    {
     "data": {
      "text/html": [
       "<div>\n",
       "<style scoped>\n",
       "    .dataframe tbody tr th:only-of-type {\n",
       "        vertical-align: middle;\n",
       "    }\n",
       "\n",
       "    .dataframe tbody tr th {\n",
       "        vertical-align: top;\n",
       "    }\n",
       "\n",
       "    .dataframe thead th {\n",
       "        text-align: right;\n",
       "    }\n",
       "</style>\n",
       "<table border=\"1\" class=\"dataframe\">\n",
       "  <thead>\n",
       "    <tr style=\"text-align: right;\">\n",
       "      <th></th>\n",
       "      <th>Student</th>\n",
       "      <th>English</th>\n",
       "      <th>Mathematics</th>\n",
       "      <th>Science</th>\n",
       "    </tr>\n",
       "  </thead>\n",
       "  <tbody>\n",
       "    <tr>\n",
       "      <th>5043</th>\n",
       "      <td>206644.0</td>\n",
       "      <td>70.0</td>\n",
       "      <td>99.0</td>\n",
       "      <td>93.0</td>\n",
       "    </tr>\n",
       "    <tr>\n",
       "      <th>1129</th>\n",
       "      <td>202730.0</td>\n",
       "      <td>74.0</td>\n",
       "      <td>98.0</td>\n",
       "      <td>90.0</td>\n",
       "    </tr>\n",
       "    <tr>\n",
       "      <th>11150</th>\n",
       "      <td>212751.0</td>\n",
       "      <td>76.0</td>\n",
       "      <td>97.0</td>\n",
       "      <td>90.0</td>\n",
       "    </tr>\n",
       "    <tr>\n",
       "      <th>9595</th>\n",
       "      <td>211196.0</td>\n",
       "      <td>59.0</td>\n",
       "      <td>97.0</td>\n",
       "      <td>84.0</td>\n",
       "    </tr>\n",
       "    <tr>\n",
       "      <th>2689</th>\n",
       "      <td>204290.0</td>\n",
       "      <td>69.0</td>\n",
       "      <td>97.0</td>\n",
       "      <td>88.0</td>\n",
       "    </tr>\n",
       "    <tr>\n",
       "      <th>1846</th>\n",
       "      <td>203447.0</td>\n",
       "      <td>74.0</td>\n",
       "      <td>97.0</td>\n",
       "      <td>86.0</td>\n",
       "    </tr>\n",
       "    <tr>\n",
       "      <th>3982</th>\n",
       "      <td>205583.0</td>\n",
       "      <td>67.0</td>\n",
       "      <td>96.0</td>\n",
       "      <td>85.0</td>\n",
       "    </tr>\n",
       "    <tr>\n",
       "      <th>3191</th>\n",
       "      <td>204792.0</td>\n",
       "      <td>82.0</td>\n",
       "      <td>96.0</td>\n",
       "      <td>95.0</td>\n",
       "    </tr>\n",
       "    <tr>\n",
       "      <th>4302</th>\n",
       "      <td>205903.0</td>\n",
       "      <td>64.0</td>\n",
       "      <td>96.0</td>\n",
       "      <td>77.0</td>\n",
       "    </tr>\n",
       "    <tr>\n",
       "      <th>3953</th>\n",
       "      <td>205554.0</td>\n",
       "      <td>74.0</td>\n",
       "      <td>96.0</td>\n",
       "      <td>86.0</td>\n",
       "    </tr>\n",
       "  </tbody>\n",
       "</table>\n",
       "</div>"
      ],
      "text/plain": [
       "        Student  English  Mathematics  Science\n",
       "5043   206644.0     70.0         99.0     93.0\n",
       "1129   202730.0     74.0         98.0     90.0\n",
       "11150  212751.0     76.0         97.0     90.0\n",
       "9595   211196.0     59.0         97.0     84.0\n",
       "2689   204290.0     69.0         97.0     88.0\n",
       "1846   203447.0     74.0         97.0     86.0\n",
       "3982   205583.0     67.0         96.0     85.0\n",
       "3191   204792.0     82.0         96.0     95.0\n",
       "4302   205903.0     64.0         96.0     77.0\n",
       "3953   205554.0     74.0         96.0     86.0"
      ]
     },
     "execution_count": 13,
     "metadata": {},
     "output_type": "execute_result"
    }
   ],
   "source": [
    "# Top 10 performer\n",
    "df.head(10)"
   ]
  },
  {
   "cell_type": "code",
   "execution_count": 14,
   "id": "26685cb4",
   "metadata": {},
   "outputs": [
    {
     "ename": "AttributeError",
     "evalue": "'numpy.ndarray' object has no attribute 'mode'",
     "output_type": "error",
     "traceback": [
      "\u001b[0;31m---------------------------------------------------------------------------\u001b[0m",
      "\u001b[0;31mAttributeError\u001b[0m                            Traceback (most recent call last)",
      "Cell \u001b[0;32mIn [14], line 1\u001b[0m\n\u001b[0;32m----> 1\u001b[0m \u001b[43meng\u001b[49m\u001b[38;5;241;43m.\u001b[39;49m\u001b[43mmode\u001b[49m()\n",
      "\u001b[0;31mAttributeError\u001b[0m: 'numpy.ndarray' object has no attribute 'mode'"
     ]
    }
   ],
   "source": [
    "eng.mode()"
   ]
  },
  {
   "cell_type": "code",
   "execution_count": null,
   "id": "d1d06d27",
   "metadata": {},
   "outputs": [],
   "source": []
  }
 ],
 "metadata": {
  "kernelspec": {
   "display_name": "Python 3 (ipykernel)",
   "language": "python",
   "name": "python3"
  },
  "language_info": {
   "codemirror_mode": {
    "name": "ipython",
    "version": 3
   },
   "file_extension": ".py",
   "mimetype": "text/x-python",
   "name": "python",
   "nbconvert_exporter": "python",
   "pygments_lexer": "ipython3",
   "version": "3.10.7"
  }
 },
 "nbformat": 4,
 "nbformat_minor": 5
}
